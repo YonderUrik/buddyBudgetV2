{
 "cells": [
  {
   "cell_type": "code",
   "execution_count": 5,
   "id": "4342eea5-4c73-468e-8ce1-ea720618bb01",
   "metadata": {},
   "outputs": [
    {
     "name": "stdout",
     "output_type": "stream",
     "text": [
      "{'quotes': [{'exchange': 'LSE', 'shortname': 'ISHARES III PLC ISHRS CORE MSCI', 'quoteType': 'ETF', 'symbol': 'IWDA.L', 'index': 'quotes', 'score': 20024, 'typeDisp': 'ETF', 'longname': 'iShares Core MSCI World UCITS ETF USD (Acc)', 'exchDisp': 'London', 'isYahooFinance': True}]}\n"
     ]
    }
   ],
   "source": [
    "import requests\n",
    "\n",
    "url = \"https://yahoo-finance127.p.rapidapi.com/search/IE00B4L5Y983\"\n",
    "\n",
    "headers = {\n",
    "\t\"X-RapidAPI-Key\": \"653b732760msh101f6e903b5f64fp1d2171jsn99b02d965f43\",\n",
    "\t\"X-RapidAPI-Host\": \"yahoo-finance127.p.rapidapi.com\"\n",
    "}\n",
    "\n",
    "response = requests.get(url, headers=headers)\n",
    "\n",
    "print(response.json())"
   ]
  },
  {
   "cell_type": "code",
   "execution_count": 6,
   "id": "a49c959a-abea-46cc-921c-c9b5952a8de0",
   "metadata": {},
   "outputs": [
    {
     "name": "stdout",
     "output_type": "stream",
     "text": [
      "{'symbol': 'IWDA.L', 'trailingThreeMonthNavReturns': {'raw': 8.86796, 'fmt': '8.87%'}, 'twoHundredDayAverageChangePercent': {'raw': 0.06912886, 'fmt': '6.91%'}, 'fiftyTwoWeekLowChangePercent': {'raw': 0.21370916, 'fmt': '21.37%'}, 'language': 'en-US', 'dividendYield': {'raw': 0, 'fmt': '0.00%'}, 'regularMarketDayRange': {'raw': '94.6 - 95.35', 'fmt': '94.60 - 95.35'}, 'regularMarketDayHigh': {'raw': 95.35, 'fmt': '95.35'}, 'twoHundredDayAverageChange': {'raw': 6.1251526, 'fmt': '6.13'}, 'twoHundredDayAverage': {'raw': 88.60485, 'fmt': '88.60'}, 'askSize': {'raw': 561, 'fmt': '561', 'longFmt': '561'}, 'fiftyTwoWeekHighChange': {'raw': -8.029999, 'fmt': '-8.03'}, 'fiftyTwoWeekRange': {'raw': '78.05 - 102.76', 'fmt': '78.05 - 102.76'}, 'fiftyDayAverageChange': {'raw': -1.764595, 'fmt': '-1.76'}, 'exchangeDataDelayedBy': 15, 'averageDailyVolume3Month': {'raw': 391213, 'fmt': '391,213', 'longFmt': '391,213'}, 'firstTradeDateMilliseconds': 1253862000000, 'fiftyTwoWeekChangePercent': {'raw': 20.4795, 'fmt': '20.48%'}, 'hasPrePostMarketData': False, 'fiftyTwoWeekLow': {'raw': 78.05, 'fmt': '78.05'}, 'market': 'gb_market', 'regularMarketVolume': {'raw': 100975, 'fmt': '100,975', 'longFmt': '100,975'}, 'quoteSourceName': 'Delayed Quote', 'messageBoardId': 'finmb_69484685', 'priceHint': 2, 'regularMarketDayLow': {'raw': 94.6, 'fmt': '94.60'}, 'sourceInterval': 15, 'ytdReturn': {'raw': 8.86796, 'fmt': '8.87%'}, 'exchange': 'LSE', 'shortName': 'ISHARES III PLC ISHRS CORE MSCI', 'region': 'US', 'fiftyDayAverageChangePercent': {'raw': -0.018286983, 'fmt': '-1.83%'}, 'fullExchangeName': 'LSE', 'gmtOffSetMilliseconds': 3600000, 'regularMarketOpen': {'raw': 95.22, 'fmt': '95.22'}, 'regularMarketTime': {'raw': 1714048408, 'fmt': '1:33PM BST'}, 'regularMarketChangePercent': {'raw': -0.7855048, 'fmt': '-0.79%'}, 'quoteType': 'ETF', 'averageDailyVolume10Day': {'raw': 305609, 'fmt': '305,609', 'longFmt': '305,609'}, 'fiftyTwoWeekLowChange': {'raw': 16.68, 'fmt': '16.68'}, 'fiftyTwoWeekHighChangePercent': {'raw': -0.07814323, 'fmt': '-7.81%'}, 'typeDisp': 'ETF', 'trailingPE': {'raw': 0.20812745, 'fmt': '0.21'}, 'tradeable': False, 'currency': 'USD', 'fiftyTwoWeekHigh': {'raw': 102.76, 'fmt': '102.76'}, 'regularMarketPreviousClose': {'raw': 95.48, 'fmt': '95.48'}, 'trailingThreeMonthReturns': {'raw': 8.86796, 'fmt': '8.87%'}, 'exchangeTimezoneName': 'Europe/London', 'bidSize': {'raw': 100088, 'fmt': '100,088', 'longFmt': '100,088'}, 'regularMarketChange': {'raw': -0.75, 'fmt': '-0.75'}, 'cryptoTradeable': False, 'fiftyDayAverage': {'raw': 96.4946, 'fmt': '96.49'}, 'exchangeTimezoneShortName': 'BST', 'marketState': 'REGULAR', 'regularMarketPrice': {'raw': 94.73, 'fmt': '94.73'}, 'customPriceAlertConfidence': 'LOW', 'ask': {'raw': 94.69, 'fmt': '94.69'}, 'epsTrailingTwelveMonths': {'raw': 4.551538, 'fmt': '4.55'}, 'bid': {'raw': 94.63, 'fmt': '94.63'}, 'triggerable': False, 'longName': 'iShares Core MSCI World UCITS ETF USD (Acc)'}\n"
     ]
    }
   ],
   "source": [
    "import requests\n",
    "\n",
    "url = \"https://yahoo-finance127.p.rapidapi.com/price/IWDA.L\"\n",
    "\n",
    "headers = {\n",
    "\t\"X-RapidAPI-Key\": \"653b732760msh101f6e903b5f64fp1d2171jsn99b02d965f43\",\n",
    "\t\"X-RapidAPI-Host\": \"yahoo-finance127.p.rapidapi.com\"\n",
    "}\n",
    "\n",
    "response = requests.get(url, headers=headers)\n",
    "\n",
    "print(response.json())"
   ]
  }
 ],
 "metadata": {
  "kernelspec": {
   "display_name": "Python 3 (ipykernel)",
   "language": "python",
   "name": "python3"
  },
  "language_info": {
   "codemirror_mode": {
    "name": "ipython",
    "version": 3
   },
   "file_extension": ".py",
   "mimetype": "text/x-python",
   "name": "python",
   "nbconvert_exporter": "python",
   "pygments_lexer": "ipython3",
   "version": "3.8.18"
  }
 },
 "nbformat": 4,
 "nbformat_minor": 5
}
